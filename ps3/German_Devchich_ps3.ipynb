{
 "cells": [
  {
   "cell_type": "code",
   "execution_count": 1,
   "metadata": {},
   "outputs": [],
   "source": [
    "import numpy as np\n",
    "import matplotlib.pyplot as plt\n",
    "import matplotlib.animation as animation\n",
    "from utils import *\n",
    "#import pickle\n",
    "from mdp import MDP\n",
    "from vi import VI"
   ]
  },
  {
   "cell_type": "markdown",
   "metadata": {},
   "source": [
    "### Load data"
   ]
  },
  {
   "cell_type": "code",
   "execution_count": 2,
   "metadata": {},
   "outputs": [],
   "source": [
    "data = np.load('data_ps3.npz')\n",
    "environment_grid = data['environment']\n",
    "s_ini = (0,0)\n",
    "goal = (21,17)\n",
    "epsilon = 0.4 #Propagation probability (see utils)\n",
    "\n",
    "environment = Environment(environment_grid,s_ini,goal,epsilon)"
   ]
  },
  {
   "cell_type": "code",
   "execution_count": 3,
   "metadata": {},
   "outputs": [
    {
     "data": {
      "image/png": "[encoded data removed]",
      "text/plain": [
       "<Figure size 480x480 with 1 Axes>"
      ]
     },
     "metadata": {},
     "output_type": "display_data"
    }
   ],
   "source": [
    "im = environment.plot_enviroment(s=s_ini,goal=goal)\n",
    "plt.matshow(im)\n",
    "plt.show()"
   ]
  },
  {
   "cell_type": "markdown",
   "metadata": {},
   "source": [
    "**Task 1: Value Iteration $G^{\\star}$**"
   ]
  },
  {
   "cell_type": "markdown",
   "metadata": {},
   "source": [
    "A. (5 pts) Enumerate the action space. The coordinates of actions are a = (row,column)."
   ]
  },
  {
   "cell_type": "code",
   "execution_count": 4,
   "metadata": {},
   "outputs": [
    {
     "name": "stdout",
     "output_type": "stream",
     "text": [
      "Action space: [(-1, 0), (0, -1), (1, 0), (0, 1)]\n"
     ]
    }
   ],
   "source": [
    "print(f\"Action space: {action_space}\")"
   ]
  },
  {
   "cell_type": "markdown",
   "metadata": {},
   "source": [
    "B. (5 pts) Re-formulate mathematically the optimal cost-to-go $G^{\\star}(S)$ in recursive form. Note we are using the later notation discussed in class for the states $s \\in S$ and actions $a \\in A$, however, the objective is to minimize $G^{\\star}$."
   ]
  },
  {
   "cell_type": "markdown",
   "metadata": {},
   "source": [
    "In lecture 5 we have the following formula: \n",
    "\n",
    "$$\n",
    "G^{\\star}_{k}(x_k) = \\min_{u_k} \\{ l(x_k,u_k) + G^{\\star}_{k+1}(x_{k+1})\\}\n",
    "$$\n",
    "\n",
    "So, in new notation it should be:\n",
    "\n",
    "$$\n",
    "G^{\\star}(s) = \\min_{a} \\{l(s,a) + G^{\\star} (s{\\prime}) \\}"
   ]
  },
  {
   "cell_type": "markdown",
   "metadata": {},
   "source": [
    "C. (20 pts) Implement the **VI** algorithm for infinite length sequences. To show this, you are asked to include a picture of the final $G^{\\star}$ (using **imshow()** for instance).\n",
    "\n",
    "The cost of traversing each node l(s,a) = 1 only if propagation is possible (there is not obstacle or out of bounds)"
   ]
  },
  {
   "cell_type": "code",
   "execution_count": 5,
   "metadata": {},
   "outputs": [
    {
     "data": {
      "image/png": "[encoded data removed]",
      "text/plain": [
       "<Figure size 640x480 with 1 Axes>"
      ]
     },
     "metadata": {},
     "output_type": "display_data"
    }
   ],
   "source": [
    "vi = VI(env=environment,goal=goal)\n",
    "G = vi.calculate_value_function()\n",
    "plt.imshow(G)\n",
    "plt.show()"
   ]
  },
  {
   "cell_type": "markdown",
   "metadata": {},
   "source": [
    "D. (5 pts) Formulate how to obtain the optimal policy $a^{\\star} = \\pi_{VI}(s)$ from $G^{\\star}$\n",
    "$$\n",
    "a^* = \\arg\\min_{a \\in A(s)} \\left\\{ l(s, a) + G^*(f(s, a)) \\right\\}\n",
    "$$"
   ]
  },
  {
   "cell_type": "markdown",
   "metadata": {},
   "source": [
    "E. (10 pts) Implement an algorithm to obtain the optimal policy $a^{\\star}$ from $G^{\\star}$. This policy can be a table. To test this, start at an initial position and execute the result of your policy and the transition function until you reach the goal. For simplicity, the step function is set to behave very close to a deterministic function ($\\epsilon$ = 0.001). You will upload the video, that should be automatically generated if using the code in run.py"
   ]
  },
  {
   "cell_type": "code",
   "execution_count": 6,
   "metadata": {},
   "outputs": [
    {
     "name": "stdout",
     "output_type": "stream",
     "text": [
      "state  (0, 0)  iters  0\n",
      "iters 0  action  2  state  (1, 0)\n",
      "state  (1, 0)  iters  1\n",
      "iters 1  action  2  state  (2, 0)\n",
      "state  (2, 0)  iters  2\n",
      "iters 2  action  2  state  (3, 0)\n",
      "state  (3, 0)  iters  3\n",
      "iters 3  action  2  state  (4, 0)\n",
      "state  (4, 0)  iters  4\n",
      "iters 4  action  2  state  (5, 0)\n",
      "state  (5, 0)  iters  5\n",
      "iters 5  action  2  state  (6, 0)\n",
      "state  (6, 0)  iters  6\n",
      "iters 6  action  2  state  (7, 0)\n",
      "state  (7, 0)  iters  7\n",
      "iters 7  action  2  state  (8, 0)\n",
      "state  (8, 0)  iters  8\n",
      "iters 8  action  2  state  (9, 0)\n",
      "state  (9, 0)  iters  9\n",
      "iters 9  action  2  state  (10, 0)\n",
      "state  (10, 0)  iters  10\n",
      "iters 10  action  2  state  (11, 0)\n",
      "state  (11, 0)  iters  11\n",
      "iters 11  action  2  state  (12, 0)\n",
      "state  (12, 0)  iters  12\n",
      "iters 12  action  2  state  (13, 0)\n",
      "state  (13, 0)  iters  13\n",
      "iters 13  action  2  state  (14, 0)\n",
      "state  (14, 0)  iters  14\n",
      "iters 14  action  2  state  (15, 0)\n",
      "state  (15, 0)  iters  15\n",
      "iters 15  action  2  state  (16, 0)\n",
      "state  (16, 0)  iters  16\n",
      "iters 16  action  2  state  (17, 0)\n",
      "state  (17, 0)  iters  17\n",
      "iters 17  action  3  state  (17, 1)\n",
      "state  (17, 1)  iters  18\n",
      "iters 18  action  3  state  (17, 2)\n",
      "state  (17, 2)  iters  19\n",
      "iters 19  action  3  state  (17, 3)\n",
      "state  (17, 3)  iters  20\n",
      "iters 20  action  3  state  (17, 4)\n",
      "state  (17, 4)  iters  21\n",
      "iters 21  action  3  state  (17, 5)\n",
      "state  (17, 5)  iters  22\n",
      "iters 22  action  3  state  (17, 6)\n",
      "state  (17, 6)  iters  23\n",
      "iters 23  action  3  state  (17, 7)\n",
      "state  (17, 7)  iters  24\n",
      "iters 24  action  3  state  (17, 8)\n",
      "state  (17, 8)  iters  25\n",
      "iters 25  action  3  state  (17, 9)\n",
      "state  (17, 9)  iters  26\n",
      "iters 26  action  3  state  (17, 10)\n",
      "state  (17, 10)  iters  27\n",
      "iters 27  action  3  state  (17, 11)\n",
      "state  (17, 11)  iters  28\n",
      "iters 28  action  3  state  (17, 12)\n",
      "state  (17, 12)  iters  29\n",
      "iters 29  action  2  state  (18, 12)\n",
      "state  (18, 12)  iters  30\n",
      "iters 30  action  2  state  (19, 12)\n",
      "state  (19, 12)  iters  31\n",
      "iters 31  action  2  state  (20, 12)\n",
      "state  (20, 12)  iters  32\n",
      "iters 32  action  2  state  (21, 12)\n",
      "state  (21, 12)  iters  33\n",
      "iters 33  action  3  state  (21, 13)\n",
      "state  (21, 13)  iters  34\n",
      "iters 34  action  3  state  (21, 14)\n",
      "state  (21, 14)  iters  35\n",
      "iters 35  action  3  state  (21, 15)\n",
      "state  (21, 15)  iters  36\n",
      "iters 36  action  3  state  (21, 16)\n",
      "state  (21, 16)  iters  37\n",
      "iters 37  action  3  state  (21, 17)\n",
      "Goal achieved in  37\n"
     ]
    },
    {
     "data": {
      "image/png": "[encoded data removed]",
      "text/plain": [
       "<Figure size 640x480 with 1 Axes>"
      ]
     },
     "metadata": {},
     "output_type": "display_data"
    }
   ],
   "source": [
    "policies = vi.calculate_policy()\n",
    "fig = plt.figure()\n",
    "imgs = []\n",
    "s = s_ini\n",
    "environment.reset(s)\n",
    "for iters in range(100):\n",
    "    print('state ',s, ' iters ', iters)\n",
    "    im = environment.plot_enviroment(s,goal)\n",
    "    plot = plt.imshow(im)\n",
    "    imgs.append([plot])\n",
    "    a = vi.policy(s)\n",
    "    s, _, safe_propagation, success = environment.step(action_space[a],epsilon=0.001)\n",
    "    if not safe_propagation:\n",
    "        print('Collision!!',s)\n",
    "        break\n",
    "    print('iters', iters, ' action ', a, ' state ', s)\n",
    "    if success:\n",
    "        print('Goal achieved in ', iters)\n",
    "        im = environment.plot_enviroment(s,goal)\n",
    "        plot = plt.imshow(im)\n",
    "        imgs.append([plot])\n",
    "        break\n",
    "\n",
    "ani = animation.ArtistAnimation(fig, imgs, interval=100, blit=True)\n",
    "ani.save('plan_vi.mp4')\n",
    "#ani.save('plan_mdp.mp4')\n",
    "plt.show()"
   ]
  },
  {
   "cell_type": "markdown",
   "metadata": {},
   "source": [
    "**Task 2: Markov Decision Process (MDP)**"
   ]
  },
  {
   "cell_type": "markdown",
   "metadata": {},
   "source": [
    "A. (5 pts) Formulate the optimal value function $v^{\\star}(s)$ in recursive form."
   ]
  },
  {
   "cell_type": "markdown",
   "metadata": {},
   "source": [
    "$$\n",
    "v^{\\star}(s) = \\max_{a \\in A(s)} \\left\\{ r(s, a, s{\\prime}) + \\gamma \\sum_{s{\\prime}} P(s{\\prime}|s, a) v^{\\star}(s{\\prime}) \\right\\}\n",
    "$$"
   ]
  },
  {
   "cell_type": "markdown",
   "metadata": {},
   "source": [
    "B. (5 pts) Formulate how to obtain the greedy deterministic policy $a^* = \\pi_{MDP}(s).$"
   ]
  },
  {
   "cell_type": "markdown",
   "metadata": {},
   "source": [
    "$$\n",
    "a^* = \\pi_{MDP}(s) = \\arg\\max_{a \\in A(s)} \\left\\{ r(s, a, s{\\prime}) + \\gamma \\sum_{s{\\prime}} P(s{\\prime}|s, a) v^*(s{\\prime}) \\right\\}\n",
    "$$"
   ]
  },
  {
   "cell_type": "markdown",
   "metadata": {},
   "source": [
    "C. (20 pts) Implement the MDP optimal value function until convergence of $v^{\\star}$ using the same criterion as in 1.C. Include in your report a picture of the values $v^{\\star}$.\n",
    "Note: Now, instead of cost, we will work with rewards having the objective of maximizing the return. Also, we have to assign some values, in this case, we recommend to start the algorithm with $v(sgoal) = 1$, the reward to collide with an obstacle or out of bounds $r(s^{\\prime} = obstacle) = −1$ (it also includes out of bounds) and the successful transition $r(s^{\\prime} = free) = 0$"
   ]
  },
  {
   "cell_type": "code",
   "execution_count": 9,
   "metadata": {},
   "outputs": [
    {
     "data": {
      "image/png": "[encoded data removed]",
      "text/plain": [
       "<Figure size 640x480 with 1 Axes>"
      ]
     },
     "metadata": {},
     "output_type": "display_data"
    },
    {
     "data": {
      "text/plain": [
       "array([[2, 2, 2, 2, 2, 2, 2, 2, 2, 2, 2, 2, 2, 2, 2, 2, 2, 2, 2, 2, 2, 2,\n",
       "        2, 2, 2, 2, 2, 2, 2, 1],\n",
       "       [3, 2, 2, 2, 2, 2, 2, 2, 2, 2, 2, 2, 2, 2, 2, 2, 2, 2, 2, 2, 2, 2,\n",
       "        2, 2, 2, 2, 2, 2, 1, 1],\n",
       "       [3, 3, 2, 2, 2, 2, 2, 2, 2, 2, 2, 2, 2, 2, 2, 2, 2, 2, 2, 2, 2, 2,\n",
       "        2, 2, 2, 2, 2, 1, 1, 1],\n",
       "       [3, 3, 3, 2, 2, 2, 2, 2, 3, 3, 3, 3, 2, 2, 2, 2, 2, 2, 2, 2, 2, 2,\n",
       "        2, 2, 1, 1, 1, 1, 1, 1],\n",
       "       [3, 3, 3, 2, 2, 2, 2, 3, 3, 3, 3, 3, 3, 3, 3, 3, 3, 2, 2, 2, 2, 2,\n",
       "        2, 1, 1, 1, 1, 1, 1, 1],\n",
       "       [3, 3, 3, 2, 2, 2, 2, 3, 3, 3, 3, 3, 3, 3, 3, 3, 3, 3, 2, 2, 2, 2,\n",
       "        2, 1, 1, 1, 1, 1, 1, 1],\n",
       "       [3, 3, 3, 2, 2, 2, 2, 3, 3, 3, 3, 3, 3, 3, 3, 3, 3, 3, 2, 2, 2, 2,\n",
       "        1, 1, 1, 1, 0, 0, 1, 1],\n",
       "       [3, 3, 3, 2, 2, 2, 2, 2, 3, 3, 3, 3, 3, 3, 3, 3, 3, 3, 3, 2, 2, 2,\n",
       "        1, 1, 1, 0, 0, 0, 0, 1],\n",
       "       [3, 3, 3, 2, 2, 2, 2, 2, 2, 0, 0, 0, 0, 0, 0, 3, 3, 3, 3, 2, 2, 2,\n",
       "        1, 1, 0, 0, 0, 0, 0, 0],\n",
       "       [3, 3, 3, 2, 2, 2, 2, 2, 1, 1, 0, 0, 0, 0, 0, 0, 3, 3, 3, 2, 2, 2,\n",
       "        1, 1, 0, 0, 0, 0, 0, 0],\n",
       "       [3, 3, 3, 2, 2, 2, 2, 2, 1, 1, 1, 1, 0, 0, 0, 0, 0, 3, 3, 3, 2, 2,\n",
       "        1, 1, 0, 0, 0, 0, 0, 2],\n",
       "       [3, 3, 3, 2, 2, 2, 2, 2, 1, 1, 1, 1, 0, 0, 0, 0, 0, 3, 3, 3, 2, 2,\n",
       "        2, 1, 0, 0, 0, 0, 0, 2],\n",
       "       [3, 3, 3, 2, 2, 2, 2, 1, 1, 1, 1, 1, 0, 0, 0, 0, 0, 3, 3, 3, 2, 2,\n",
       "        2, 2, 0, 0, 0, 0, 0, 2],\n",
       "       [3, 3, 2, 2, 2, 2, 2, 1, 1, 1, 1, 1, 0, 0, 0, 0, 0, 3, 3, 3, 3, 2,\n",
       "        2, 2, 2, 2, 2, 2, 2, 2],\n",
       "       [3, 3, 2, 2, 2, 2, 1, 1, 1, 1, 1, 1, 0, 0, 0, 0, 0, 3, 3, 3, 3, 3,\n",
       "        2, 2, 2, 2, 2, 2, 2, 1],\n",
       "       [3, 3, 2, 2, 2, 2, 1, 1, 1, 1, 1, 2, 2, 2, 2, 1, 3, 3, 0, 3, 3, 3,\n",
       "        2, 2, 2, 2, 2, 2, 1, 1],\n",
       "       [3, 3, 2, 2, 2, 1, 1, 1, 1, 0, 3, 3, 2, 2, 1, 0, 0, 0, 0, 0, 3, 3,\n",
       "        2, 2, 2, 2, 2, 1, 1, 1],\n",
       "       [3, 3, 2, 2, 2, 1, 1, 1, 0, 0, 0, 3, 3, 2, 1, 0, 0, 0, 0, 0, 3, 3,\n",
       "        2, 2, 2, 2, 1, 1, 1, 1],\n",
       "       [3, 3, 2, 2, 2, 1, 1, 0, 0, 0, 0, 0, 3, 2, 1, 0, 0, 0, 0, 0, 3, 3,\n",
       "        2, 2, 2, 2, 1, 1, 1, 1],\n",
       "       [3, 3, 2, 2, 2, 1, 1, 0, 0, 0, 0, 0, 3, 2, 2, 0, 0, 0, 0, 0, 3, 2,\n",
       "        2, 2, 2, 2, 1, 1, 1, 1],\n",
       "       [3, 3, 3, 2, 2, 1, 1, 0, 0, 0, 0, 0, 3, 2, 2, 0, 0, 0, 0, 0, 2, 2,\n",
       "        2, 2, 2, 1, 1, 1, 1, 1],\n",
       "       [3, 3, 3, 2, 2, 2, 1, 0, 0, 0, 0, 0, 3, 2, 2, 2, 3, 0, 1, 2, 2, 2,\n",
       "        2, 2, 1, 1, 1, 1, 1, 1],\n",
       "       [3, 3, 3, 2, 2, 2, 2, 0, 0, 0, 0, 0, 3, 3, 3, 3, 3, 0, 1, 1, 1, 1,\n",
       "        1, 1, 1, 1, 1, 1, 1, 1],\n",
       "       [3, 3, 3, 2, 2, 2, 2, 2, 2, 2, 2, 3, 3, 3, 3, 3, 3, 0, 1, 1, 1, 1,\n",
       "        1, 1, 1, 1, 1, 1, 1, 1],\n",
       "       [3, 3, 3, 3, 3, 2, 2, 2, 2, 2, 3, 3, 3, 3, 3, 3, 0, 0, 0, 1, 1, 1,\n",
       "        1, 1, 1, 1, 1, 1, 1, 1],\n",
       "       [3, 3, 3, 3, 3, 3, 3, 3, 3, 3, 3, 3, 3, 3, 3, 0, 0, 0, 0, 0, 1, 1,\n",
       "        1, 1, 1, 1, 1, 1, 1, 1],\n",
       "       [3, 3, 3, 3, 3, 3, 3, 3, 3, 3, 3, 3, 3, 3, 0, 0, 0, 0, 0, 0, 0, 0,\n",
       "        1, 1, 1, 1, 1, 1, 1, 1],\n",
       "       [3, 3, 3, 3, 3, 3, 3, 3, 3, 3, 0, 0, 0, 0, 0, 0, 0, 0, 0, 0, 0, 0,\n",
       "        0, 0, 0, 0, 0, 1, 1, 1],\n",
       "       [3, 3, 0, 0, 0, 0, 0, 0, 0, 0, 0, 0, 0, 0, 0, 0, 0, 0, 0, 0, 0, 0,\n",
       "        0, 0, 0, 0, 0, 0, 1, 1],\n",
       "       [3, 0, 0, 0, 0, 0, 0, 0, 0, 0, 0, 0, 0, 0, 0, 0, 0, 0, 0, 0, 0, 0,\n",
       "        0, 0, 0, 0, 0, 0, 0, 1]], dtype=int8)"
      ]
     },
     "execution_count": 9,
     "metadata": {},
     "output_type": "execute_result"
    }
   ],
   "source": [
    "mdp = MDP(env=environment,goal=goal,gamma=0.99)\n",
    "V = mdp.calculate_value_function()\n",
    "plt.imshow(V)\n",
    "plt.show()\n",
    "mdp.calculate_policy()\n"
   ]
  },
  {
   "cell_type": "code",
   "execution_count": 10,
   "metadata": {},
   "outputs": [
    {
     "name": "stdout",
     "output_type": "stream",
     "text": [
      "state  (0, 0)  iters  0\n",
      "iters 0  action  2  state  (1, 0)\n",
      "state  (1, 0)  iters  1\n",
      "iters 1  action  3  state  (1, 1)\n",
      "state  (1, 1)  iters  2\n",
      "iters 2  action  2  state  (2, 1)\n",
      "state  (2, 1)  iters  3\n",
      "iters 3  action  3  state  (2, 2)\n",
      "state  (2, 2)  iters  4\n",
      "iters 4  action  2  state  (3, 2)\n",
      "state  (3, 2)  iters  5\n",
      "iters 5  action  3  state  (3, 3)\n",
      "state  (3, 3)  iters  6\n",
      "iters 6  action  2  state  (4, 3)\n",
      "state  (4, 3)  iters  7\n",
      "iters 7  action  2  state  (5, 3)\n",
      "state  (5, 3)  iters  8\n",
      "iters 8  action  2  state  (6, 3)\n",
      "state  (6, 3)  iters  9\n",
      "iters 9  action  2  state  (7, 3)\n",
      "state  (7, 3)  iters  10\n",
      "iters 10  action  2  state  (8, 3)\n",
      "state  (8, 3)  iters  11\n",
      "iters 11  action  2  state  (9, 3)\n",
      "state  (9, 3)  iters  12\n",
      "iters 12  action  2  state  (10, 3)\n",
      "state  (10, 3)  iters  13\n",
      "iters 13  action  2  state  (11, 3)\n",
      "state  (11, 3)  iters  14\n",
      "iters 14  action  2  state  (12, 3)\n",
      "state  (12, 3)  iters  15\n",
      "iters 15  action  2  state  (13, 3)\n",
      "state  (13, 3)  iters  16\n",
      "iters 16  action  2  state  (14, 3)\n",
      "state  (14, 3)  iters  17\n",
      "iters 17  action  2  state  (15, 3)\n",
      "state  (15, 3)  iters  18\n",
      "iters 18  action  2  state  (16, 3)\n",
      "state  (16, 3)  iters  19\n",
      "iters 19  action  2  state  (17, 3)\n",
      "state  (17, 3)  iters  20\n",
      "iters 20  action  2  state  (18, 3)\n",
      "state  (18, 3)  iters  21\n",
      "iters 21  action  2  state  (19, 3)\n",
      "state  (19, 3)  iters  22\n",
      "iters 22  action  2  state  (20, 3)\n",
      "state  (20, 3)  iters  23\n",
      "iters 23  action  2  state  (21, 3)\n",
      "state  (21, 3)  iters  24\n",
      "iters 24  action  2  state  (22, 3)\n",
      "state  (22, 3)  iters  25\n",
      "iters 25  action  2  state  (23, 3)\n",
      "state  (23, 3)  iters  26\n",
      "iters 26  action  2  state  (24, 3)\n",
      "state  (24, 3)  iters  27\n",
      "iters 27  action  3  state  (24, 4)\n",
      "state  (24, 4)  iters  28\n",
      "iters 28  action  3  state  (24, 5)\n",
      "state  (24, 5)  iters  29\n",
      "iters 29  action  2  state  (25, 5)\n",
      "state  (25, 5)  iters  30\n",
      "iters 30  action  3  state  (25, 6)\n",
      "state  (25, 6)  iters  31\n",
      "iters 31  action  3  state  (25, 7)\n",
      "state  (25, 7)  iters  32\n",
      "iters 32  action  3  state  (25, 8)\n",
      "state  (25, 8)  iters  33\n",
      "iters 33  action  3  state  (25, 9)\n",
      "state  (25, 9)  iters  34\n",
      "iters 34  action  3  state  (25, 10)\n",
      "state  (25, 10)  iters  35\n",
      "iters 35  action  3  state  (25, 11)\n",
      "state  (25, 11)  iters  36\n",
      "iters 36  action  3  state  (25, 12)\n",
      "state  (25, 12)  iters  37\n",
      "iters 37  action  3  state  (25, 13)\n",
      "state  (25, 13)  iters  38\n",
      "iters 38  action  3  state  (25, 14)\n",
      "state  (25, 14)  iters  39\n",
      "iters 39  action  3  state  (25, 15)\n",
      "state  (25, 15)  iters  40\n",
      "iters 40  action  0  state  (24, 15)\n",
      "state  (24, 15)  iters  41\n",
      "iters 41  action  3  state  (24, 16)\n",
      "state  (24, 16)  iters  42\n",
      "iters 42  action  0  state  (23, 16)\n",
      "state  (23, 16)  iters  43\n",
      "iters 43  action  3  state  (23, 17)\n",
      "state  (23, 17)  iters  44\n",
      "iters 44  action  0  state  (22, 17)\n",
      "state  (22, 17)  iters  45\n",
      "iters 45  action  0  state  (21, 17)\n",
      "Goal achieved in  45\n"
     ]
    },
    {
     "data": {
      "image/png": "[encoded data removed]",
      "text/plain": [
       "<Figure size 640x480 with 1 Axes>"
      ]
     },
     "metadata": {},
     "output_type": "display_data"
    }
   ],
   "source": [
    "fig = plt.figure()\n",
    "imgs = []\n",
    "s = s_ini\n",
    "environment.reset(s)\n",
    "for iters in range(100):\n",
    "    print('state ',s, ' iters ', iters)\n",
    "    im = environment.plot_enviroment(s,goal)\n",
    "    plot = plt.imshow(im)\n",
    "    imgs.append([plot])\n",
    "    a = mdp.policy(s)\n",
    "    s, _, safe_propagation, success = environment.step(action_space[a],epsilon=0.001)\n",
    "    if not safe_propagation:\n",
    "        print('Collision!!',s)\n",
    "        break\n",
    "    print('iters', iters, ' action ', a, ' state ', s)\n",
    "    if success:\n",
    "        print('Goal achieved in ', iters)\n",
    "        im = environment.plot_enviroment(s,goal)\n",
    "        plot = plt.imshow(im)\n",
    "        imgs.append([plot])\n",
    "        break\n",
    "\n",
    "ani = animation.ArtistAnimation(fig, imgs, interval=100, blit=True)\n",
    "ani.save('plan_mdp.mp4')\n",
    "plt.show()"
   ]
  }
 ],
 "metadata": {
  "kernelspec": {
   "display_name": "planning",
   "language": "python",
   "name": "python3"
  },
  "language_info": {
   "codemirror_mode": {
    "name": "ipython",
    "version": 3
   },
   "file_extension": ".py",
   "mimetype": "text/x-python",
   "name": "python",
   "nbconvert_exporter": "python",
   "pygments_lexer": "ipython3",
   "version": "3.12.0"
  }
 },
 "nbformat": 4,
 "nbformat_minor": 2
}
